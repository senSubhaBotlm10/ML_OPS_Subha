{
 "cells": [
  {
   "cell_type": "code",
   "execution_count": 1,
   "id": "433b798c",
   "metadata": {
    "_cell_guid": "7600a000-ac88-4f29-8702-c0d08552bdee",
    "_uuid": "70d70442-bae2-4f46-9fad-6249a438d3dc",
    "collapsed": false,
    "execution": {
     "iopub.execute_input": "2025-09-16T07:06:26.496906Z",
     "iopub.status.busy": "2025-09-16T07:06:26.496538Z",
     "iopub.status.idle": "2025-09-16T07:06:30.460917Z",
     "shell.execute_reply": "2025-09-16T07:06:30.459061Z"
    },
    "jupyter": {
     "outputs_hidden": false
    },
    "papermill": {
     "duration": 3.96984,
     "end_time": "2025-09-16T07:06:30.463051",
     "exception": false,
     "start_time": "2025-09-16T07:06:26.493211",
     "status": "completed"
    },
    "tags": []
   },
   "outputs": [
    {
     "name": "stdout",
     "output_type": "stream",
     "text": [
      "Random Forest Accuracy: 0.8250\n",
      "Logistic Regression Accuracy: 0.8339\n",
      "Decision Tree Accuracy: 0.7478\n",
      "\n",
      "✅ Best Model: Logistic Regression with Accuracy: 0.8339\n"
     ]
    }
   ],
   "source": [
    "import pandas as pd\r\n",
    "import numpy as np\r\n",
    "from sklearn import preprocessing\r\n",
    "from sklearn.model_selection import train_test_split\r\n",
    "from sklearn.ensemble import RandomForestClassifier\r\n",
    "from sklearn.linear_model import LogisticRegression\r\n",
    "from sklearn.tree import DecisionTreeClassifier\r\n",
    "from sklearn.metrics import accuracy_score\r\n",
    "# Load and prepare data\r\n",
    "df = pd.read_csv(\"/kaggle/input/framingham-heart-attack-data/framingham.csv\")\r\n",
    "df.drop(columns=['education'], inplace=True)\r\n",
    "df.rename(columns={'male': 'Sex_male'}, inplace=True)\r\n",
    "df.dropna(inplace=True)\r\n",
    "\r\n",
    "X = df[['age', 'Sex_male', 'cigsPerDay', 'totChol', 'sysBP', 'glucose']]\r\n",
    "y = df['TenYearCHD']\r\n",
    "\r\n",
    "scaler = preprocessing.StandardScaler()\r\n",
    "X_scaled = scaler.fit_transform(X)\r\n",
    "X_train, X_test, y_train, y_test = train_test_split(X_scaled, y, test_size=0.3, random_state=42)\r\n",
    "\r\n",
    "# Models\r\n",
    "models = {\r\n",
    "    \"Random Forest\": RandomForestClassifier(n_estimators=100, random_state=42),\r\n",
    "    \"Logistic Regression\": LogisticRegression(max_iter=1000, random_state=42),\r\n",
    "    \"Decision Tree\": DecisionTreeClassifier(random_state=42)\r\n",
    "}\r\n",
    "\r\n",
    "# Train and evaluate models\r\n",
    "accuracy_scores = {}\r\n",
    "for name, model in models.items():\r\n",
    "    model.fit(X_train, y_train)\r\n",
    "    predictions = model.predict(X_test)\r\n",
    "    accuracy = accuracy_score(y_test, predictions)\r\n",
    "    accuracy_scores[name] = accuracy\r\n",
    "    print(f\"{name} Accuracy: {accuracy:.4f}\")\r\n",
    "\r\n",
    "# Identify best model\r\n",
    "best_model_name = max(accuracy_scores, key=accuracy_scores.get)\r\n",
    "print(f\"\\n✅ Best Model: {best_model_name} with Accuracy: {accuracy_scores[best_model_name]:.4f}\")"
   ]
  }
 ],
 "metadata": {
  "kaggle": {
   "accelerator": "none",
   "dataSources": [
    {
     "datasetId": 8118581,
     "sourceId": 12836656,
     "sourceType": "datasetVersion"
    }
   ],
   "dockerImageVersionId": 31089,
   "isGpuEnabled": false,
   "isInternetEnabled": false,
   "language": "python",
   "sourceType": "notebook"
  },
  "kernelspec": {
   "display_name": "Python 3",
   "language": "python",
   "name": "python3"
  },
  "language_info": {
   "codemirror_mode": {
    "name": "ipython",
    "version": 3
   },
   "file_extension": ".py",
   "mimetype": "text/x-python",
   "name": "python",
   "nbconvert_exporter": "python",
   "pygments_lexer": "ipython3",
   "version": "3.11.13"
  },
  "papermill": {
   "default_parameters": {},
   "duration": 9.455047,
   "end_time": "2025-09-16T07:06:31.084510",
   "environment_variables": {},
   "exception": null,
   "input_path": "__notebook__.ipynb",
   "output_path": "__notebook__.ipynb",
   "parameters": {},
   "start_time": "2025-09-16T07:06:21.629463",
   "version": "2.6.0"
  }
 },
 "nbformat": 4,
 "nbformat_minor": 5
}
